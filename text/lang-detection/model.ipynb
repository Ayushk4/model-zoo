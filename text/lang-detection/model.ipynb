{
 "cells": [
  {
   "cell_type": "code",
   "execution_count": 1,
   "metadata": {},
   "outputs": [],
   "source": [
    "using Flux\n",
    "using Flux: onehot, onehotbatch, crossentropy, reset!, throttle\n",
    "using Statistics: mean\n",
    "using Random\n",
    "using Unicode"
   ]
  },
  {
   "cell_type": "code",
   "execution_count": 2,
   "metadata": {
    "scrolled": true
   },
   "outputs": [
    {
     "data": {
      "text/plain": [
       "150-element Array{Char,1}:\n",
       " '(' \n",
       " '/' \n",
       " 'ˌ' \n",
       " 'ɪ' \n",
       " 'ˈ' \n",
       " 'ː' \n",
       " 'ə' \n",
       " ')' \n",
       " ',' \n",
       " '-' \n",
       " '[' \n",
       " ']' \n",
       " '\\''\n",
       " ⋮   \n",
       " 'ব' \n",
       " 'ল' \n",
       " 'দ' \n",
       " 'শ' \n",
       " 'চ' \n",
       " 'ট' \n",
       " 'ম' \n",
       " 'ঢ' \n",
       " 'ক' \n",
       " 'খ' \n",
       " 'হ' \n",
       " 'স' "
      ]
     },
     "execution_count": 2,
     "metadata": {},
     "output_type": "execute_result"
    }
   ],
   "source": [
    "corpora = Dict()\n",
    "\n",
    "cd(@__DIR__)\n",
    "for file in readdir(\"corpus\")\n",
    "    lang = Symbol(match(r\"(.*)\\.txt\", file).captures[1])\n",
    "    corpus = split(String(read(\"corpus/$file\")), \".\")\n",
    "    corpus = strip.(Unicode.normalize.(corpus, casefold=true, stripmark=true))\n",
    "    corpus = filter(!isempty, corpus)\n",
    "    corpora[lang] = corpus\n",
    "end\n",
    "\n",
    "langs = collect(keys(corpora))\n",
    "alphabet = ['a':'z'; '0':'9'; ' '; '\\n'; '_']\n",
    "\n",
    "# See which chars will be represented as \"unknown\"\n",
    "unique(filter(x -> x ∉ alphabet, join(vcat(values(corpora)...))))"
   ]
  },
  {
   "cell_type": "code",
   "execution_count": 3,
   "metadata": {
    "scrolled": true
   },
   "outputs": [
    {
     "data": {
      "text/plain": [
       "(Tuple{Flux.OneHotMatrix{Array{Flux.OneHotVector,1}},Flux.OneHotVector}[([false false … false false; false false … false false; … ; false false … false false; false false … false true], [false, false, true, false, false]), ([false true … false false; false false … false false; … ; false false … false false; false false … false false], [false, false, false, true, false]), ([false false … false false; false false … false false; … ; false false … false false; true false … false false], [false, false, false, false, true]), ([false false … false true; false false … false false; … ; false false … false false; false false … false false], [false, false, false, true, false]), ([false false … false false; false false … false false; … ; false false … false false; true true … false false], [true, false, false, false, false]), ([false false … false false; false false … false false; … ; false false … false false; true false … false false], [false, false, false, true, false]), ([false false … false false; false false … false false; … ; false false … false false; false false … false false], [false, false, false, true, false]), ([false false … false false; false false … false false; … ; false false … false false; true false … false false], [true, false, false, false, false]), ([false false … false false; false false … false false; … ; false false … false false; true false … false true], [false, true, false, false, false]), ([false false … false false; false false … false false; … ; false false … false false; false false … false true], [false, false, true, false, false])  …  ([false false … false false; false false … false false; … ; false false … false false; false false … false false], [false, false, false, false, true]), ([false false … false false; false false … false false; … ; false false … false false; false false … false false], [false, false, false, false, true]), ([false false … false false; false false … false false; … ; false false … false false; true false … false false], [false, false, false, true, false]), ([false false … false false; false false … false false; … ; false false … false false; false false … false false], [false, false, false, true, false]), ([false false … false false; false false … false false; … ; false false … false false; true false … false false], [false, false, false, false, true]), ([false false … false false; false false … false false; … ; false false … false false; false false … false false], [false, false, false, true, false]), ([false true … false false; false false … false false; … ; false false … false false; false false … false false], [false, false, true, false, false]), ([false false … false false; false false … false false; … ; false false … false false; false false … false false], [false, false, false, true, false]), ([false false … false false; true false … false false; … ; false false … false false; false false … false true], [true, false, false, false, false]), ([false true … false false; false false … false false; … ; false false … false false; false false … false false], [false, false, false, false, true])], Tuple{Flux.OneHotMatrix{Array{Flux.OneHotVector,1}},Flux.OneHotVector}[([false false … false false; false false … false false; … ; false false … false false; false false … false false], [false, true, false, false, false]), ([false false … false true; false false … false false; … ; false false … false false; true true … false false], [true, false, false, false, false]), ([false false … false false; false false … false false; … ; false false … false false; false false … true false], [false, false, true, false, false]), ([false false … false false; false false … false false; … ; false false … false false; false false … false false], [false, false, true, false, false]), ([false false … false false; false false … false false; … ; false false … false false; false true … false false], [false, false, true, false, false]), ([false false … false false; false false … false false; … ; false false … false false; false false … false false], [false, false, true, false, false]), ([false false … false true; false false … false false; … ; false false … false false; false false … false false], [false, true, false, false, false]), ([true false … false false; false false … false false; … ; false false … false false; false false … false false], [false, false, false, false, true]), ([false false … false true; false false … false false; … ; false false … false false; false false … false false], [false, true, false, false, false]), ([false false … false false; false false … false false; … ; false false … false false; false false … false false], [false, false, false, false, true])  …  ([false false … false true; false false … false false; … ; false false … false false; false false … false false], [false, true, false, false, false]), ([false false … false false; false false … false false; … ; false false … false false; false false … false false], [false, false, false, true, false]), ([false false … false true; false false … false false; … ; false false … false false; true false … false false], [false, false, false, true, false]), ([false false … false false; false false … false false; … ; false false … false false; false false … false true], [false, false, false, true, false]), ([false false … false false; false false … false false; … ; false false … false false; false false … false false], [false, true, false, false, false]), ([false false … false false; false false … false false; … ; false false … false false; false false … true false], [false, false, false, true, false]), ([false false … false false; false false … false false; … ; false false … false false; false false … false true], [false, true, false, false, false]), ([false; false; … ; false; false], [false, false, false, true, false]), ([false false … false true; false false … false false; … ; false false … false false; true false … false false], [false, false, false, true, false]), ([false false … false false; false false … false false; … ; false false … false false; true false … false false], [false, false, false, true, false])])"
      ]
     },
     "execution_count": 3,
     "metadata": {},
     "output_type": "execute_result"
    }
   ],
   "source": [
    "dataset = [(onehotbatch(s, alphabet, '_'), onehot(l, langs))\n",
    "           for l in langs for s in corpora[l]] |> shuffle\n",
    "\n",
    "train, test = dataset[1:end-100], dataset[end-99:end]"
   ]
  },
  {
   "cell_type": "code",
   "execution_count": 4,
   "metadata": {
    "scrolled": true
   },
   "outputs": [
    {
     "data": {
      "text/plain": [
       "#11 (generic function with 1 method)"
      ]
     },
     "execution_count": 4,
     "metadata": {},
     "output_type": "execute_result"
    }
   ],
   "source": [
    "N = 15\n",
    "\n",
    "scanner = Chain(Dense(length(alphabet), N, σ), LSTM(N, N))\n",
    "encoder = Dense(N, length(langs))\n",
    "\n",
    "function model(x)\n",
    "    state = scanner.(x.data)[end]\n",
    "    reset!(scanner)\n",
    "    softmax(encoder(state))\n",
    "end\n",
    "\n",
    "loss(x, y) = crossentropy(model(x), y)\n",
    "\n",
    "testloss() = mean(loss(t...) for t in test)\n",
    "\n",
    "opt = ADAM()\n",
    "ps = params(scanner, encoder)\n",
    "evalcb = () -> @show testloss()"
   ]
  },
  {
   "cell_type": "code",
   "execution_count": 6,
   "metadata": {
    "scrolled": true
   },
   "outputs": [
    {
     "name": "stdout",
     "output_type": "stream",
     "text": [
      "testloss() = 1.5330142f0 (tracked)\n",
      "testloss() = 1.4882953f0 (tracked)\n",
      "testloss() = 1.2766123f0 (tracked)\n",
      "testloss() = 1.3358175f0 (tracked)\n",
      "testloss() = 1.2766131f0 (tracked)\n",
      "testloss() = 1.2379081f0 (tracked)\n",
      "testloss() = 1.2043288f0 (tracked)\n",
      "testloss() = 1.3020862f0 (tracked)\n",
      "testloss() = 1.3938646f0 (tracked)\n",
      "testloss() = 1.3144602f0 (tracked)\n",
      "testloss() = 1.2121319f0 (tracked)\n",
      "testloss() = 1.1983653f0 (tracked)\n",
      "testloss() = 1.3928201f0 (tracked)\n",
      "testloss() = 1.1769012f0 (tracked)\n",
      "testloss() = 1.5113814f0 (tracked)\n",
      "testloss() = 1.1120145f0 (tracked)\n",
      "testloss() = 1.2551943f0 (tracked)\n",
      "testloss() = 1.2663445f0 (tracked)\n",
      "testloss() = 1.0412004f0 (tracked)\n",
      "testloss() = 1.2133237f0 (tracked)\n",
      "testloss() = 1.0968978f0 (tracked)\n",
      "testloss() = 1.1209707f0 (tracked)\n",
      "testloss() = 1.1489831f0 (tracked)\n"
     ]
    }
   ],
   "source": [
    "Flux.train!(loss, ps, train, opt, cb = throttle(evalcb, 10))"
   ]
  },
  {
   "cell_type": "code",
   "execution_count": null,
   "metadata": {},
   "outputs": [],
   "source": []
  }
 ],
 "metadata": {
  "kernelspec": {
   "display_name": "Julia 1.0.3",
   "language": "julia",
   "name": "julia-1.0"
  },
  "language_info": {
   "file_extension": ".jl",
   "mimetype": "application/julia",
   "name": "julia",
   "version": "1.0.3"
  }
 },
 "nbformat": 4,
 "nbformat_minor": 2
}
