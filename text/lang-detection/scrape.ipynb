{
 "cells": [
  {
   "cell_type": "code",
   "execution_count": 1,
   "metadata": {},
   "outputs": [],
   "source": [
    "using Cascadia, Gumbo, HTTP"
   ]
  },
  {
   "cell_type": "code",
   "execution_count": 2,
   "metadata": {},
   "outputs": [
    {
     "data": {
      "text/plain": [
       "Dict{Symbol,Array{String,1}} with 5 entries:\n",
       "  :en => [\"Wikipedia\", \"Osama_bin_Laden_(elephant)\", \"List_of_lists_of_lists\", …\n",
       "  :it => [\"Wikipedia\", \"Ludovico_Einaudi\", \"Filosofia_della_scienza\", \"Pizza\", …\n",
       "  :fr => [\"Wikipedia\", \"Philosophie_des_sciences\", \"Seconde_Guerre_mondiale\", \"…\n",
       "  :es => [\"Wikipedia\", \"Chorizo\", \"Historia_de_Barcelona\", \"Espana\", \"Las_Vegas…\n",
       "  :da => [\"Wikipedia\", \"H.C._Andersen\", \"L.A._Ring\", \"Jiangxi\", \"NATO\", \"Thomas…"
      ]
     },
     "execution_count": 2,
     "metadata": {},
     "output_type": "execute_result"
    }
   ],
   "source": [
    "pages = Dict(\n",
    "  :en => [\"Wikipedia\", \"Osama_bin_Laden_(elephant)\", \"List_of_lists_of_lists\", \"Josephine_Butler\", \"Canadian_football\", \"Judaism\"],\n",
    "  :it => [\"Wikipedia\", \"Ludovico_Einaudi\", \"Filosofia_della_scienza\", \"Pizza\", \"Effie_Gray\", \"Galeazzo_Maria_Sforza\", \"Ebraismo\"],\n",
    "  :fr => [\"Wikipedia\", \"Philosophie_des_sciences\", \"Seconde_Guerre_mondiale\", \"Eric_Hakonsson\"],\n",
    "  :es => [\"Wikipedia\", \"Chorizo\", \"Historia_de_Barcelona\", \"Espana\", \"Las_Vegas_Strip\", \"Judaismo\"],\n",
    "  :da => [\"Wikipedia\", \"H.C._Andersen\", \"L.A._Ring\", \"Jiangxi\", \"NATO\", \"Thomas_Edison\", \"Bangladesh\"])"
   ]
  },
  {
   "cell_type": "code",
   "execution_count": 3,
   "metadata": {
    "scrolled": true
   },
   "outputs": [],
   "source": [
    "# cont = parsehtml(String(HTTP.get(\"https://en.wikipedia.org/wiki/Josephine_Butler\").body)).root\n",
    "# for m in eachmatch(sel\".mw-parser-output > p\", cont)\n",
    "#     println(nodeText(m))    \n",
    "# end\n",
    "# join(collect(nodeText(m) for m in eachmatch(sel\".mw-parser-output > p\", cont)), \"\\n\")\n"
   ]
  },
  {
   "cell_type": "code",
   "execution_count": 4,
   "metadata": {},
   "outputs": [],
   "source": [
    "rawpage(url) = parsehtml(String(HTTP.get(url).body)).root\n",
    "\n",
    "content(url) = join((collect(nodeText(m) for m in eachmatch(sel\".mw-parser-output > p\", rawpage(url)))), \"\\n\")\n",
    "\n",
    "cd(@__DIR__)\n",
    "mkpath(\"corpus\")\n",
    "\n",
    "for (lang, ps) in pages\n",
    "    open(\"corpus/$lang.txt\", \"w\") do io\n",
    "        for p in ps\n",
    "            write(io, content(\"https://$lang.wikipedia.org/wiki/$p\"))\n",
    "        end\n",
    "    end\n",
    "end"
   ]
  },
  {
   "cell_type": "code",
   "execution_count": null,
   "metadata": {},
   "outputs": [],
   "source": []
  }
 ],
 "metadata": {
  "kernelspec": {
   "display_name": "Julia 1.0.3",
   "language": "julia",
   "name": "julia-1.0"
  },
  "language_info": {
   "file_extension": ".jl",
   "mimetype": "application/julia",
   "name": "julia",
   "version": "1.0.3"
  }
 },
 "nbformat": 4,
 "nbformat_minor": 2
}
